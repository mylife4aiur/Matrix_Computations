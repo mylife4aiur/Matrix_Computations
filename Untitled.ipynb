{
 "cells": [
  {
   "cell_type": "markdown",
   "metadata": {},
   "source": [
    "## Matrix-Vector Multiplication\n",
    "\n",
    "Saxpy (scalar $a$ $x$ plus $y$)\n",
    "\n",
    "$$y=ax+y$$\n",
    "\n",
    "Gaxpy (generalized saxpy)\n",
    "\n",
    "$$y=y+Ax$$\n",
    "\n",
    "Gaxpy 有两种方式的实现，Row-Oriented Gaxpy 和 Column-Oriented Gaxpy\n",
    "\n",
    "这一部分比较两个 Gaxpy 算法的运行速率"
   ]
  },
  {
   "cell_type": "code",
   "execution_count": 122,
   "metadata": {
    "collapsed": true
   },
   "outputs": [],
   "source": [
    "import numpy as np\n",
    "from copy import deepcopy\n",
    "from time import time"
   ]
  },
  {
   "cell_type": "code",
   "execution_count": 186,
   "metadata": {},
   "outputs": [],
   "source": [
    "def row(a,x,y):\n",
    "    for i in range(len(y)):\n",
    "        y[i]=y[i]+a[i:i+1,:].dot(x)\n",
    "        \n",
    "    return y\n",
    "def column(a,x,z):\n",
    "    for i in range(len(a[0])):\n",
    "        z=z+a[:,i:i+1]*x[i]\n",
    "    return z"
   ]
  },
  {
   "cell_type": "code",
   "execution_count": 188,
   "metadata": {},
   "outputs": [],
   "source": [
    "N=2000\n",
    "M=3000\n",
    "y=np.random.rand(N,1)\n",
    "t=deepcopy(y)\n",
    "x=np.random.rand(M,1)\n",
    "a=np.random.rand(N,M)"
   ]
  },
  {
   "cell_type": "code",
   "execution_count": 194,
   "metadata": {},
   "outputs": [
    {
     "data": {
      "text/plain": [
       "(2000, 1)"
      ]
     },
     "execution_count": 194,
     "metadata": {},
     "output_type": "execute_result"
    }
   ],
   "source": [
    "np.shape(a[:,i:i+1])"
   ]
  },
  {
   "cell_type": "code",
   "execution_count": 189,
   "metadata": {},
   "outputs": [
    {
     "name": "stdout",
     "output_type": "stream",
     "text": [
      "Row time cost:0.0173\n",
      "Column time cost:0.0596\n"
     ]
    }
   ],
   "source": [
    "L=1\n",
    "tic=time()\n",
    "for i in range(L):\n",
    "    r=row(a,x,y)\n",
    "toc=time()\n",
    "print('Row time cost:{:.4f}'.format(toc-tic))\n",
    "tic=time()\n",
    "for i in range(L):\n",
    "    c=column(a,x,t)\n",
    "toc=time()\n",
    "print('Column time cost:{:.4f}'.format(toc-tic))\n",
    "# print(r)\n",
    "# print(c)"
   ]
  },
  {
   "cell_type": "markdown",
   "metadata": {},
   "source": [
    "结果上来看，列操作更费时"
   ]
  },
  {
   "cell_type": "markdown",
   "metadata": {},
   "source": [
    "## Matrix-Matrix Multiplication\n",
    "三种方法"
   ]
  },
  {
   "cell_type": "markdown",
   "metadata": {},
   "source": [
    "### Pointwise dot product"
   ]
  },
  {
   "cell_type": "code",
   "execution_count": 202,
   "metadata": {
    "collapsed": true
   },
   "outputs": [],
   "source": [
    "def dot_product(A,B):\n",
    "    a_m,a_n=np.shape(A)\n",
    "    b_m,b_n=np.shape(B)\n",
    "    c=np.zeros((a_m,b_n))\n",
    "    for i in range(a_m):\n",
    "        for j in range(b_n):\n",
    "            c[i][j]=A[i,:].dot(B[:,j])\n",
    "    return c"
   ]
  },
  {
   "cell_type": "markdown",
   "metadata": {},
   "source": [
    "### Saxpy"
   ]
  },
  {
   "cell_type": "code",
   "execution_count": 227,
   "metadata": {
    "collapsed": true
   },
   "outputs": [],
   "source": [
    "def saxpy(A,B):\n",
    "    a_m,a_n=np.shape(A)\n",
    "    b_m,b_n=np.shape(B)\n",
    "    c=np.zeros((a_m,b_n))\n",
    "    for j in range(b_n):\n",
    "        for i in range(a_m):\n",
    "            c[:,j]=c[:,j]+B[i][j]*A[:,j]\n",
    "    return c"
   ]
  },
  {
   "cell_type": "markdown",
   "metadata": {},
   "source": [
    "## outer product"
   ]
  },
  {
   "cell_type": "code",
   "execution_count": 228,
   "metadata": {
    "collapsed": true
   },
   "outputs": [],
   "source": [
    "def outer_product(A,B):\n",
    "    a_m,a_n=np.shape(A)\n",
    "    b_m,b_n=np.shape(B)\n",
    "    c=np.zeros((a_m,b_n))\n",
    "    for i in range(a_n):\n",
    "        c+=A[:,i:i+1].dot(B[i:i+1,:])\n",
    "    return c"
   ]
  },
  {
   "cell_type": "code",
   "execution_count": 229,
   "metadata": {},
   "outputs": [
    {
     "data": {
      "text/plain": [
       "array([[ 0.13807741,  0.10732202,  0.03486846],\n",
       "       [ 0.05875172,  0.04566535,  0.01483648],\n",
       "       [ 0.65450405,  0.50871968,  0.16528082],\n",
       "       [ 0.65251574,  0.50717425,  0.16477872],\n",
       "       [ 0.52315344,  0.40662613,  0.13211107],\n",
       "       [ 0.50072209,  0.38919114,  0.12644652],\n",
       "       [ 0.20234473,  0.15727442,  0.05109778],\n",
       "       [ 0.22882589,  0.17785716,  0.05778502],\n",
       "       [ 0.60673289,  0.47158908,  0.15321725],\n",
       "       [ 0.4419501 ,  0.34351004,  0.11160493]])"
      ]
     },
     "execution_count": 229,
     "metadata": {},
     "output_type": "execute_result"
    }
   ],
   "source": [
    "A[:,i:i+1].dot(B[i:i+1,:])"
   ]
  },
  {
   "cell_type": "code",
   "execution_count": 230,
   "metadata": {},
   "outputs": [],
   "source": [
    "a_m,a_n,b_m=(10,5,3)\n",
    "A=np.random.rand(a_m,a_n)\n",
    "B=np.random.rand(a_n,b_n)"
   ]
  },
  {
   "cell_type": "code",
   "execution_count": 231,
   "metadata": {},
   "outputs": [
    {
     "data": {
      "text/plain": [
       "(5,)"
      ]
     },
     "execution_count": 231,
     "metadata": {},
     "output_type": "execute_result"
    }
   ],
   "source": [
    "np.shape(A[i][j]*B[:,j])"
   ]
  },
  {
   "cell_type": "code",
   "execution_count": 232,
   "metadata": {},
   "outputs": [
    {
     "name": "stdout",
     "output_type": "stream",
     "text": [
      "(10, 3)\n"
     ]
    }
   ],
   "source": [
    "i=0;j=0\n",
    "a_m,a_n=np.shape(A)\n",
    "b_m,b_n=np.shape(B)\n",
    "c=np.zeros((a_m,b_n))\n",
    "print(np.shape(c))"
   ]
  },
  {
   "cell_type": "code",
   "execution_count": 233,
   "metadata": {},
   "outputs": [
    {
     "name": "stdout",
     "output_type": "stream",
     "text": [
      "[[ 1.23524223  1.24017878  1.16377826]\n",
      " [ 1.05661021  1.18705084  0.78794906]\n",
      " [ 1.59960337  1.33312582  1.57574558]\n",
      " [ 0.63648401  0.82285859  0.76069332]\n",
      " [ 0.81516812  0.46263913  0.57843317]\n",
      " [ 0.86783194  1.1556699   0.58074384]\n",
      " [ 1.24664014  1.01197941  1.01191137]\n",
      " [ 1.30030326  1.29203263  1.69639614]\n",
      " [ 0.9786952   1.18128391  0.90804916]\n",
      " [ 1.35816518  1.15157058  1.41387185]]\n"
     ]
    },
    {
     "ename": "IndexError",
     "evalue": "index 5 is out of bounds for axis 0 with size 5",
     "output_type": "error",
     "traceback": [
      "\u001b[0;31m---------------------------------------------------------------------------\u001b[0m",
      "\u001b[0;31mIndexError\u001b[0m                                Traceback (most recent call last)",
      "\u001b[0;32m<ipython-input-233-17db0330e7d0>\u001b[0m in \u001b[0;36m<module>\u001b[0;34m()\u001b[0m\n\u001b[1;32m      1\u001b[0m \u001b[0mprint\u001b[0m\u001b[0;34m(\u001b[0m\u001b[0mdot_product\u001b[0m\u001b[0;34m(\u001b[0m\u001b[0mA\u001b[0m\u001b[0;34m,\u001b[0m\u001b[0mB\u001b[0m\u001b[0;34m)\u001b[0m\u001b[0;34m)\u001b[0m\u001b[0;34m\u001b[0m\u001b[0m\n\u001b[0;32m----> 2\u001b[0;31m \u001b[0mprint\u001b[0m\u001b[0;34m(\u001b[0m\u001b[0msaxpy\u001b[0m\u001b[0;34m(\u001b[0m\u001b[0mA\u001b[0m\u001b[0;34m,\u001b[0m\u001b[0mB\u001b[0m\u001b[0;34m)\u001b[0m\u001b[0;34m)\u001b[0m\u001b[0;34m\u001b[0m\u001b[0m\n\u001b[0m\u001b[1;32m      3\u001b[0m \u001b[0mprint\u001b[0m\u001b[0;34m(\u001b[0m\u001b[0mouter_product\u001b[0m\u001b[0;34m(\u001b[0m\u001b[0mA\u001b[0m\u001b[0;34m,\u001b[0m\u001b[0mB\u001b[0m\u001b[0;34m)\u001b[0m\u001b[0;34m)\u001b[0m\u001b[0;34m\u001b[0m\u001b[0m\n",
      "\u001b[0;32m<ipython-input-227-115f40a47e44>\u001b[0m in \u001b[0;36msaxpy\u001b[0;34m(A, B)\u001b[0m\n\u001b[1;32m      5\u001b[0m     \u001b[0;32mfor\u001b[0m \u001b[0mj\u001b[0m \u001b[0;32min\u001b[0m \u001b[0mrange\u001b[0m\u001b[0;34m(\u001b[0m\u001b[0mb_n\u001b[0m\u001b[0;34m)\u001b[0m\u001b[0;34m:\u001b[0m\u001b[0;34m\u001b[0m\u001b[0m\n\u001b[1;32m      6\u001b[0m         \u001b[0;32mfor\u001b[0m \u001b[0mi\u001b[0m \u001b[0;32min\u001b[0m \u001b[0mrange\u001b[0m\u001b[0;34m(\u001b[0m\u001b[0ma_m\u001b[0m\u001b[0;34m)\u001b[0m\u001b[0;34m:\u001b[0m\u001b[0;34m\u001b[0m\u001b[0m\n\u001b[0;32m----> 7\u001b[0;31m             \u001b[0mc\u001b[0m\u001b[0;34m[\u001b[0m\u001b[0;34m:\u001b[0m\u001b[0;34m,\u001b[0m\u001b[0mj\u001b[0m\u001b[0;34m]\u001b[0m\u001b[0;34m=\u001b[0m\u001b[0mc\u001b[0m\u001b[0;34m[\u001b[0m\u001b[0;34m:\u001b[0m\u001b[0;34m,\u001b[0m\u001b[0mj\u001b[0m\u001b[0;34m]\u001b[0m\u001b[0;34m+\u001b[0m\u001b[0mB\u001b[0m\u001b[0;34m[\u001b[0m\u001b[0mi\u001b[0m\u001b[0;34m]\u001b[0m\u001b[0;34m[\u001b[0m\u001b[0mj\u001b[0m\u001b[0;34m]\u001b[0m\u001b[0;34m*\u001b[0m\u001b[0mA\u001b[0m\u001b[0;34m[\u001b[0m\u001b[0;34m:\u001b[0m\u001b[0;34m,\u001b[0m\u001b[0mj\u001b[0m\u001b[0;34m]\u001b[0m\u001b[0;34m\u001b[0m\u001b[0m\n\u001b[0m\u001b[1;32m      8\u001b[0m     \u001b[0;32mreturn\u001b[0m \u001b[0mc\u001b[0m\u001b[0;34m\u001b[0m\u001b[0m\n",
      "\u001b[0;31mIndexError\u001b[0m: index 5 is out of bounds for axis 0 with size 5"
     ]
    }
   ],
   "source": [
    "print(dot_product(A,B))\n",
    "print(saxpy(A,B))\n",
    "print(outer_product(A,B))"
   ]
  },
  {
   "cell_type": "code",
   "execution_count": null,
   "metadata": {
    "collapsed": true
   },
   "outputs": [],
   "source": []
  }
 ],
 "metadata": {
  "kernelspec": {
   "display_name": "Python 3",
   "language": "python",
   "name": "python3"
  },
  "language_info": {
   "codemirror_mode": {
    "name": "ipython",
    "version": 3
   },
   "file_extension": ".py",
   "mimetype": "text/x-python",
   "name": "python",
   "nbconvert_exporter": "python",
   "pygments_lexer": "ipython3",
   "version": "3.6.1"
  }
 },
 "nbformat": 4,
 "nbformat_minor": 2
}
