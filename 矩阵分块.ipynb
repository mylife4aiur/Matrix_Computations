{
 "cells": [
  {
   "cell_type": "markdown",
   "metadata": {},
   "source": [
    "# 矩阵分块的乘法\n",
    "\n",
    "$A*B=[A1\\ |\\ A2]*[\\frac{B1}{B2}]=A1*B1+A2*B2$\n",
    "\n",
    "上式中分块得到的仍然是矩阵，因此必须保证分块得到的 A1 的列和 B1 的行数相等"
   ]
  },
  {
   "cell_type": "code",
   "execution_count": 1,
   "metadata": {
    "collapsed": true
   },
   "outputs": [],
   "source": [
    "import numpy as np"
   ]
  },
  {
   "cell_type": "code",
   "execution_count": 3,
   "metadata": {},
   "outputs": [
    {
     "name": "stdout",
     "output_type": "stream",
     "text": [
      "[[ 2.24340577  2.78714372  3.32486032]\n",
      " [ 1.50926677  1.85049535  2.58501894]]\n"
     ]
    }
   ],
   "source": [
    "A=np.random.rand(2,10)\n",
    "B=np.random.rand(10,3)\n",
    "# 3.6 才有的特性\n",
    "print(A @ B)"
   ]
  },
  {
   "cell_type": "code",
   "execution_count": 4,
   "metadata": {},
   "outputs": [
    {
     "name": "stdout",
     "output_type": "stream",
     "text": [
      "[[ 2.24340577  2.78714372  3.32486032]\n",
      " [ 1.50926677  1.85049535  2.58501894]]\n"
     ]
    }
   ],
   "source": [
    "# 等分为两块\n",
    "A1=A[:,:5]\n",
    "A2=A[:,5:]\n",
    "B1=B[:5,:]\n",
    "B2=B[5:,:]\n",
    "print(A1@B1+A2@B2)"
   ]
  },
  {
   "cell_type": "code",
   "execution_count": 5,
   "metadata": {},
   "outputs": [
    {
     "name": "stdout",
     "output_type": "stream",
     "text": [
      "[[ 2.24340577  2.78714372  3.32486032]\n",
      " [ 1.50926677  1.85049535  2.58501894]]\n"
     ]
    }
   ],
   "source": [
    "# 不等分为三块\n",
    "A1=A[:,:2]\n",
    "A2=A[:,2:7]\n",
    "A3=A[:,7:]\n",
    "B1=B[:2,:]\n",
    "B2=B[2:7,:]\n",
    "B3=B[7:,:]\n",
    "print(A1@B1+A2@B2+A3@B3)"
   ]
  },
  {
   "cell_type": "code",
   "execution_count": null,
   "metadata": {
    "collapsed": true
   },
   "outputs": [],
   "source": []
  }
 ],
 "metadata": {
  "kernelspec": {
   "display_name": "Python 3",
   "language": "python",
   "name": "python3"
  },
  "language_info": {
   "codemirror_mode": {
    "name": "ipython",
    "version": 3
   },
   "file_extension": ".py",
   "mimetype": "text/x-python",
   "name": "python",
   "nbconvert_exporter": "python",
   "pygments_lexer": "ipython3",
   "version": "3.6.1"
  }
 },
 "nbformat": 4,
 "nbformat_minor": 2
}
